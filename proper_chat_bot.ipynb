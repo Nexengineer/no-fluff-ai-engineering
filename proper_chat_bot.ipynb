{
 "cells": [
  {
   "cell_type": "markdown",
   "id": "96a92f2b",
   "metadata": {},
   "source": [
    "## Proper Chat application"
   ]
  },
  {
   "cell_type": "markdown",
   "id": "48295daa",
   "metadata": {},
   "source": [
    "#### Ollama using OpenAI API's\n",
    "- Dependencies `gradio` `openai` `langchain-openai`"
   ]
  },
  {
   "cell_type": "markdown",
   "id": "9c078984",
   "metadata": {},
   "source": [
    "##### First app to explore UI"
   ]
  },
  {
   "cell_type": "code",
   "execution_count": 7,
   "id": "4a12a574",
   "metadata": {},
   "outputs": [
    {
     "name": "stdout",
     "output_type": "stream",
     "text": [
      "* Running on local URL:  http://127.0.0.1:7860\n",
      "* To create a public link, set `share=True` in `launch()`.\n"
     ]
    },
    {
     "data": {
      "text/html": [
       "<div><iframe src=\"http://127.0.0.1:7860/\" width=\"100%\" height=\"500\" allow=\"autoplay; camera; microphone; clipboard-read; clipboard-write;\" frameborder=\"0\" allowfullscreen></iframe></div>"
      ],
      "text/plain": [
       "<IPython.core.display.HTML object>"
      ]
     },
     "metadata": {},
     "output_type": "display_data"
    },
    {
     "data": {
      "text/plain": []
     },
     "execution_count": 7,
     "metadata": {},
     "output_type": "execute_result"
    }
   ],
   "source": [
    "import gradio as gr\n",
    "\n",
    "def say(input: str):\n",
    "    return f\"You have said '{input}'\"\n",
    "\n",
    "demo = gr.Interface(\n",
    "    fn=say,\n",
    "    inputs=\"textbox\",\n",
    "    outputs=\"textbox\",\n",
    "    title=\"Repeater bot\",\n",
    "    description=\"A simple bot which reiterates what is input\",\n",
    "    flagging_mode=\"never\"\n",
    ")\n",
    "\n",
    "demo.launch()"
   ]
  },
  {
   "cell_type": "code",
   "execution_count": 8,
   "id": "8e9ff85a",
   "metadata": {},
   "outputs": [
    {
     "name": "stdout",
     "output_type": "stream",
     "text": [
      "Closing server running on port: 7860\n"
     ]
    }
   ],
   "source": [
    "# Command for closing the UI ports\n",
    "demo.close()"
   ]
  },
  {
   "cell_type": "markdown",
   "id": "46855d96",
   "metadata": {},
   "source": [
    "##### Resturant Menu generator"
   ]
  },
  {
   "cell_type": "code",
   "execution_count": 9,
   "id": "1967b738",
   "metadata": {},
   "outputs": [],
   "source": [
    "# Import statements\n",
    "import gradio as gr\n",
    "from openai import OpenAI\n",
    "\n",
    "# Global variables\n",
    "BASE_URL = \"http://localhost:11434/v1\"\n",
    "MODEL_NAME = \"llama_3_2_1b_instruct\"\n",
    "DUMMY_API_KEY = \"Ollama\"\n",
    "\n",
    "# Client creation\n",
    "client = OpenAI(\n",
    "    base_url=BASE_URL,\n",
    "    api_key=DUMMY_API_KEY\n",
    ")\n",
    "\n",
    "def generate_menu(restaurant_name: str, cuisine_type: str, special_requirement= \"None\") -> str:\n",
    "    formated_prompt = f\"\"\"\n",
    "    Create a restaurant menu for \"{restaurant_name}\", a {cuisine_type} restaurant.\n",
    "    Special requirements: {special_requirement}\n",
    "    \n",
    "    Include:\n",
    "    - 3 appetizers\n",
    "    - 4 main courses\n",
    "    - 2 desserts\n",
    "    \n",
    "    For each item, include a name, brief description, and price.\n",
    "    \n",
    "    Format your response in markdown with appropriate headers, styling, and sections.\n",
    "    Add a brief introduction about the restaurant at the top.\n",
    "    \"\"\"\n",
    "\n",
    "    response = client.chat.completions.create(\n",
    "        model=MODEL_NAME,\n",
    "        messages=[\n",
    "            {\"role\": \"system\", \"content\": \"You are an expert restaurant consultant who creates beautiful, well-formatted menus.\"},\n",
    "            {\"role\": \"user\", \"content\": formated_prompt}\n",
    "        ]\n",
    "    )\n",
    "\n",
    "    return response.choices[0].message.content\n"
   ]
  },
  {
   "cell_type": "code",
   "execution_count": 10,
   "id": "4efd6d44",
   "metadata": {},
   "outputs": [
    {
     "name": "stdout",
     "output_type": "stream",
     "text": [
      "* Running on local URL:  http://127.0.0.1:7860\n",
      "* To create a public link, set `share=True` in `launch()`.\n"
     ]
    },
    {
     "data": {
      "text/html": [
       "<div><iframe src=\"http://127.0.0.1:7860/\" width=\"100%\" height=\"500\" allow=\"autoplay; camera; microphone; clipboard-read; clipboard-write;\" frameborder=\"0\" allowfullscreen></iframe></div>"
      ],
      "text/plain": [
       "<IPython.core.display.HTML object>"
      ]
     },
     "metadata": {},
     "output_type": "display_data"
    },
    {
     "data": {
      "text/plain": []
     },
     "execution_count": 10,
     "metadata": {},
     "output_type": "execute_result"
    }
   ],
   "source": [
    "# Calling Resturant menu generator\n",
    "\n",
    "menu_generator = gr.Interface(\n",
    "    fn=generate_menu,\n",
    "    inputs=[\n",
    "        gr.Textbox(label=\"Restaurant Name\"),\n",
    "        gr.Textbox(label=\"Cuisine Type (e.g., Italian, Japanese)\"),\n",
    "        gr.Textbox(label=\"Special Requirements (Optional)\", placeholder=\"e.g., vegetarian options\")\n",
    "    ],\n",
    "    outputs=gr.Markdown(label=\"Generated Menu\"),\n",
    "    title=\"Restaurant Menu Generator\",\n",
    "    description=\"Create a professional restaurant menu with AI\",\n",
    "    flagging_mode=\"never\"\n",
    ")\n",
    "\n",
    "# Launch the menu generator\n",
    "menu_generator.launch()"
   ]
  },
  {
   "cell_type": "code",
   "execution_count": 11,
   "id": "3654b552",
   "metadata": {},
   "outputs": [
    {
     "name": "stdout",
     "output_type": "stream",
     "text": [
      "Closing server running on port: 7860\n"
     ]
    }
   ],
   "source": [
    "menu_generator.close()"
   ]
  }
 ],
 "metadata": {
  "kernelspec": {
   "display_name": "no-fluff-venv",
   "language": "python",
   "name": "python3"
  },
  "language_info": {
   "codemirror_mode": {
    "name": "ipython",
    "version": 3
   },
   "file_extension": ".py",
   "mimetype": "text/x-python",
   "name": "python",
   "nbconvert_exporter": "python",
   "pygments_lexer": "ipython3",
   "version": "3.13.5"
  }
 },
 "nbformat": 4,
 "nbformat_minor": 5
}
